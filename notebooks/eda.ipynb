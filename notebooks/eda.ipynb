{
 "cells": [
  {
   "cell_type": "markdown",
   "id": "723b02a0",
   "metadata": {},
   "source": [
    "# Exploratory Data Analysis (EDA)\n",
    "This notebook explores the stock price dataset and sentiment data."
   ]
  },
  {
   "cell_type": "markdown",
   "id": "b14df815",
   "metadata": {},
   "source": [
    "# ramez mawgood"
   ]
  },
  {
   "cell_type": "code",
   "execution_count": null,
   "id": "cf2656b2",
   "metadata": {},
   "outputs": [],
   "source": [
    "# Import libraries\n",
    "import pandas as pd\n",
    "import matplotlib.pyplot as plt\n",
    "import plotly.express as px"
   ]
  },
  {
   "cell_type": "markdown",
   "id": "2a5807f8",
   "metadata": {},
   "source": [
    "## Data Loading\n",
    "Load the stock price and sentiment data for analysis."
   ]
  },
  {
   "cell_type": "code",
   "execution_count": null,
   "id": "7c3adbdb",
   "metadata": {},
   "outputs": [],
   "source": [
    "# Example: Load data (update path as needed)\n",
    "# df = pd.read_csv('../data/stock_data.csv')\n",
    "# df.head()"
   ]
  }
 ],
 "metadata": {
  "language_info": {
   "name": "python"
  }
 },
 "nbformat": 4,
 "nbformat_minor": 5
}
